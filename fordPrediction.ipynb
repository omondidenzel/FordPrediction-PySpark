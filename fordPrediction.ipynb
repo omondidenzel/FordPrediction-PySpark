{
 "cells": [
  {
   "cell_type": "code",
   "execution_count": 11,
   "metadata": {},
   "outputs": [],
   "source": [
    "import pyspark\n",
    "from pyspark.sql import SparkSession\n",
    "import pandas as pd"
   ]
  },
  {
   "cell_type": "code",
   "execution_count": 3,
   "metadata": {},
   "outputs": [
    {
     "data": {
      "text/html": [
       "\n",
       "            <div>\n",
       "                <p><b>SparkSession - in-memory</b></p>\n",
       "                \n",
       "        <div>\n",
       "            <p><b>SparkContext</b></p>\n",
       "\n",
       "            <p><a href=\"http://192.168.100.27:4041\">Spark UI</a></p>\n",
       "\n",
       "            <dl>\n",
       "              <dt>Version</dt>\n",
       "                <dd><code>v3.4.0</code></dd>\n",
       "              <dt>Master</dt>\n",
       "                <dd><code>local[*]</code></dd>\n",
       "              <dt>AppName</dt>\n",
       "                <dd><code>Practise</code></dd>\n",
       "            </dl>\n",
       "        </div>\n",
       "        \n",
       "            </div>\n",
       "        "
      ],
      "text/plain": [
       "<pyspark.sql.session.SparkSession at 0x108d21be0>"
      ]
     },
     "execution_count": 3,
     "metadata": {},
     "output_type": "execute_result"
    },
    {
     "name": "stderr",
     "output_type": "stream",
     "text": [
      "23/06/21 20:04:14 WARN GarbageCollectionMetrics: To enable non-built-in garbage collector(s) List(G1 Concurrent GC), users should configure it(them) to spark.eventLog.gcMetrics.youngGenerationGarbageCollectors or spark.eventLog.gcMetrics.oldGenerationGarbageCollectors\n"
     ]
    }
   ],
   "source": [
    "spark = SparkSession.builder.appName(\"Practise\").getOrCreate()\n",
    "spark"
   ]
  },
  {
   "attachments": {},
   "cell_type": "markdown",
   "metadata": {},
   "source": [
    "Read Dataset"
   ]
  },
  {
   "cell_type": "code",
   "execution_count": 19,
   "metadata": {},
   "outputs": [
    {
     "name": "stdout",
     "output_type": "stream",
     "text": [
      "+-------+----+-----+------------+-------+--------+---+----+----------+\n",
      "|  model|year|price|transmission|mileage|fuelType|tax| mpg|engineSize|\n",
      "+-------+----+-----+------------+-------+--------+---+----+----------+\n",
      "| Fiesta|2017|12000|   Automatic|  15944|  Petrol|150|57.7|       1.0|\n",
      "|  Focus|2018|14000|      Manual|   9083|  Petrol|150|57.7|       1.0|\n",
      "|  Focus|2017|13000|      Manual|  12456|  Petrol|150|57.7|       1.0|\n",
      "| Fiesta|2019|17500|      Manual|  10460|  Petrol|145|40.3|       1.5|\n",
      "| Fiesta|2019|16500|   Automatic|   1482|  Petrol|145|48.7|       1.0|\n",
      "+-------+----+-----+------------+-------+--------+---+----+----------+\n",
      "only showing top 5 rows\n",
      "\n"
     ]
    }
   ],
   "source": [
    "df = spark.read.csv(\"ford.csv\", header=True, inferSchema=True)\n",
    "df.show(5)"
   ]
  },
  {
   "cell_type": "code",
   "execution_count": 10,
   "metadata": {},
   "outputs": [
    {
     "name": "stdout",
     "output_type": "stream",
     "text": [
      "+-------+------+------------------+------------------+------------+------------------+--------+------------------+------------------+-------------------+\n",
      "|summary| model|              year|             price|transmission|           mileage|fuelType|               tax|               mpg|         engineSize|\n",
      "+-------+------+------------------+------------------+------------+------------------+--------+------------------+------------------+-------------------+\n",
      "|  count| 17966|             17966|             17966|       17966|             17966|   17966|             17966|             17966|              17966|\n",
      "|   mean|  null|2016.8664699988867|12279.534843593454|        null|23362.608760992985|    null|113.32945563842814| 57.90697985082969| 1.3508070800400782|\n",
      "| stddev|  null|2.0503359784876998| 4741.343657354183|        null| 19472.05434910513|    null|62.012456193801725|10.125695709164098|0.43236727240069733|\n",
      "|    min| B-MAX|              1996|               495|   Automatic|                 1|  Diesel|                 0|              20.8|                0.0|\n",
      "|    max| Focus|              2060|             54995|   Semi-Auto|            177644|  Petrol|               580|             201.8|                5.0|\n",
      "+-------+------+------------------+------------------+------------+------------------+--------+------------------+------------------+-------------------+\n",
      "\n"
     ]
    }
   ],
   "source": [
    "df.describe().show()"
   ]
  },
  {
   "cell_type": "code",
   "execution_count": 29,
   "metadata": {},
   "outputs": [
    {
     "name": "stdout",
     "output_type": "stream",
     "text": [
      "root\n",
      " |-- model: string (nullable = true)\n",
      " |-- year: integer (nullable = true)\n",
      " |-- price: integer (nullable = true)\n",
      " |-- transmission: string (nullable = true)\n",
      " |-- mileage: integer (nullable = true)\n",
      " |-- fuelType: string (nullable = true)\n",
      " |-- tax: integer (nullable = true)\n",
      " |-- mpg: double (nullable = true)\n",
      " |-- engineSize: double (nullable = true)\n",
      "\n"
     ]
    }
   ],
   "source": [
    "#Get Data Type\n",
    "df.printSchema()"
   ]
  },
  {
   "cell_type": "code",
   "execution_count": 18,
   "metadata": {},
   "outputs": [
    {
     "name": "stdout",
     "output_type": "stream",
     "text": [
      "+-----+----+-----+------------+-------+--------+---+---+----------+\n",
      "|model|year|price|transmission|mileage|fuelType|tax|mpg|engineSize|\n",
      "+-----+----+-----+------------+-------+--------+---+---+----------+\n",
      "|    0|   0|    0|           0|      0|       0|  0|  0|         0|\n",
      "+-----+----+-----+------------+-------+--------+---+---+----------+\n",
      "\n"
     ]
    }
   ],
   "source": [
    "#Get null values\n",
    "from pyspark.sql.functions import isnan, when, count, col\n",
    "df.select([count(when(isnan(c) | col(c).isNull(), c)).alias(c) for c in df.columns]).show()"
   ]
  },
  {
   "cell_type": "code",
   "execution_count": 20,
   "metadata": {},
   "outputs": [
    {
     "data": {
      "text/plain": [
       "['model',\n",
       " 'year',\n",
       " 'price',\n",
       " 'transmission',\n",
       " 'mileage',\n",
       " 'fuelType',\n",
       " 'tax',\n",
       " 'mpg',\n",
       " 'engineSize']"
      ]
     },
     "execution_count": 20,
     "metadata": {},
     "output_type": "execute_result"
    }
   ],
   "source": [
    "df.columns"
   ]
  },
  {
   "cell_type": "code",
   "execution_count": 23,
   "metadata": {},
   "outputs": [
    {
     "name": "stdout",
     "output_type": "stream",
     "text": [
      "+---------+----+-----+------------+-------+--------+---+----+----------+------------+-------------------+---------------+----------+-----------------+\n",
      "|    model|year|price|transmission|mileage|fuelType|tax| mpg|engineSize|modelIndexed|transmissionIndexed|fuelTypeIndexed|mpgIndexed|engineSizeIndexed|\n",
      "+---------+----+-----+------------+-------+--------+---+----+----------+------------+-------------------+---------------+----------+-----------------+\n",
      "|   Fiesta|2017|12000|   Automatic|  15944|  Petrol|150|57.7|       1.0|         0.0|                1.0|            0.0|       4.0|              0.0|\n",
      "|    Focus|2018|14000|      Manual|   9083|  Petrol|150|57.7|       1.0|         1.0|                0.0|            0.0|       4.0|              0.0|\n",
      "|    Focus|2017|13000|      Manual|  12456|  Petrol|150|57.7|       1.0|         1.0|                0.0|            0.0|       4.0|              0.0|\n",
      "|   Fiesta|2019|17500|      Manual|  10460|  Petrol|145|40.3|       1.5|         0.0|                0.0|            0.0|      30.0|              1.0|\n",
      "|   Fiesta|2019|16500|   Automatic|   1482|  Petrol|145|48.7|       1.0|         0.0|                1.0|            0.0|      11.0|              0.0|\n",
      "|   Fiesta|2015|10500|      Manual|  35432|  Petrol|145|47.9|       1.6|         0.0|                0.0|            0.0|       7.0|              4.0|\n",
      "|     Puma|2019|22500|      Manual|   2029|  Petrol|145|50.4|       1.0|        13.0|                0.0|            0.0|      24.0|              0.0|\n",
      "|   Fiesta|2017| 9000|      Manual|  13054|  Petrol|145|54.3|       1.2|         0.0|                0.0|            0.0|       1.0|              3.0|\n",
      "|     Kuga|2019|25500|   Automatic|   6894|  Diesel|145|42.2|       2.0|         2.0|                1.0|            1.0|      36.0|              2.0|\n",
      "|    Focus|2018|10000|      Manual|  48141|  Petrol|145|61.4|       1.0|         1.0|                0.0|            0.0|      16.0|              0.0|\n",
      "|   Fiesta|2018|11561|      Manual|  18803|  Petrol|145|56.5|       1.0|         0.0|                0.0|            0.0|       8.0|              0.0|\n",
      "| EcoSport|2018|13500|      Manual|  12065|  Petrol|145|54.3|       1.0|         3.0|                0.0|            0.0|       1.0|              0.0|\n",
      "|   Fiesta|2017|11000|      Manual|  20978|  Petrol|  0|65.7|       1.0|         0.0|                0.0|            0.0|       0.0|              0.0|\n",
      "|     Kuga|2018|17999|   Semi-Auto|   9002|  Diesel|145|54.3|       2.0|         2.0|                2.0|            1.0|       1.0|              2.0|\n",
      "|     Kuga|2018|18999|   Semi-Auto|   8970|  Diesel|145|58.9|       1.5|         2.0|                2.0|            1.0|       5.0|              1.0|\n",
      "|     Kuga|2018|14399|      Manual|  12810|  Diesel|145|64.2|       1.5|         2.0|                0.0|            1.0|       3.0|              1.0|\n",
      "|     Kuga|2019|17999|      Manual|  10428|  Diesel|145|38.2|       2.0|         2.0|                0.0|            1.0|      22.0|              2.0|\n",
      "|     Kuga|2018|16899|      Manual|  14680|  Diesel|145|54.3|       2.0|         2.0|                0.0|            1.0|       1.0|              2.0|\n",
      "|   Fiesta|2017|10999|      Manual|  12427|  Petrol| 20|62.8|       1.0|         0.0|                0.0|            0.0|      12.0|              0.0|\n",
      "|   Fiesta|2019|12500|      Manual|  25521|  Petrol|145|55.4|       1.0|         0.0|                0.0|            0.0|       9.0|              0.0|\n",
      "+---------+----+-----+------------+-------+--------+---+----+----------+------------+-------------------+---------------+----------+-----------------+\n",
      "only showing top 20 rows\n",
      "\n"
     ]
    }
   ],
   "source": [
    "from pyspark.ml.feature import StringIndexer\n",
    "\n",
    "indexer = StringIndexer(inputCols=['model','transmission','fuelType', 'mpg', 'engineSize'], \n",
    "                          outputCols=['modelIndexed','transmissionIndexed','fuelTypeIndexed', 'mpgIndexed', 'engineSizeIndexed'])\n",
    "\n",
    "dfIndexed = indexer.fit(df).transform(df)\n",
    "dfIndexed.show()"
   ]
  },
  {
   "cell_type": "code",
   "execution_count": 36,
   "metadata": {},
   "outputs": [
    {
     "name": "stdout",
     "output_type": "stream",
     "text": [
      "+---------+----+-----+------------+-------+--------+---+----+----------+------------+-------------------+---------------+----------+-----------------+--------------------+\n",
      "|    model|year|price|transmission|mileage|fuelType|tax| mpg|engineSize|modelIndexed|transmissionIndexed|fuelTypeIndexed|mpgIndexed|engineSizeIndexed| IndependentVariable|\n",
      "+---------+----+-----+------------+-------+--------+---+----+----------+------------+-------------------+---------------+----------+-----------------+--------------------+\n",
      "|   Fiesta|2017|12000|   Automatic|  15944|  Petrol|150|57.7|       1.0|         0.0|                1.0|            0.0|       4.0|              0.0| (5,[1,3],[1.0,4.0])|\n",
      "|    Focus|2018|14000|      Manual|   9083|  Petrol|150|57.7|       1.0|         1.0|                0.0|            0.0|       4.0|              0.0| (5,[0,3],[1.0,4.0])|\n",
      "|    Focus|2017|13000|      Manual|  12456|  Petrol|150|57.7|       1.0|         1.0|                0.0|            0.0|       4.0|              0.0| (5,[0,3],[1.0,4.0])|\n",
      "|   Fiesta|2019|17500|      Manual|  10460|  Petrol|145|40.3|       1.5|         0.0|                0.0|            0.0|      30.0|              1.0|(5,[3,4],[30.0,1.0])|\n",
      "|   Fiesta|2019|16500|   Automatic|   1482|  Petrol|145|48.7|       1.0|         0.0|                1.0|            0.0|      11.0|              0.0|(5,[1,3],[1.0,11.0])|\n",
      "|   Fiesta|2015|10500|      Manual|  35432|  Petrol|145|47.9|       1.6|         0.0|                0.0|            0.0|       7.0|              4.0| (5,[3,4],[7.0,4.0])|\n",
      "|     Puma|2019|22500|      Manual|   2029|  Petrol|145|50.4|       1.0|        13.0|                0.0|            0.0|      24.0|              0.0|(5,[0,3],[13.0,24...|\n",
      "|   Fiesta|2017| 9000|      Manual|  13054|  Petrol|145|54.3|       1.2|         0.0|                0.0|            0.0|       1.0|              3.0| (5,[3,4],[1.0,3.0])|\n",
      "|     Kuga|2019|25500|   Automatic|   6894|  Diesel|145|42.2|       2.0|         2.0|                1.0|            1.0|      36.0|              2.0|[2.0,1.0,1.0,36.0...|\n",
      "|    Focus|2018|10000|      Manual|  48141|  Petrol|145|61.4|       1.0|         1.0|                0.0|            0.0|      16.0|              0.0|(5,[0,3],[1.0,16.0])|\n",
      "|   Fiesta|2018|11561|      Manual|  18803|  Petrol|145|56.5|       1.0|         0.0|                0.0|            0.0|       8.0|              0.0|       (5,[3],[8.0])|\n",
      "| EcoSport|2018|13500|      Manual|  12065|  Petrol|145|54.3|       1.0|         3.0|                0.0|            0.0|       1.0|              0.0| (5,[0,3],[3.0,1.0])|\n",
      "|   Fiesta|2017|11000|      Manual|  20978|  Petrol|  0|65.7|       1.0|         0.0|                0.0|            0.0|       0.0|              0.0|           (5,[],[])|\n",
      "|     Kuga|2018|17999|   Semi-Auto|   9002|  Diesel|145|54.3|       2.0|         2.0|                2.0|            1.0|       1.0|              2.0|[2.0,2.0,1.0,1.0,...|\n",
      "|     Kuga|2018|18999|   Semi-Auto|   8970|  Diesel|145|58.9|       1.5|         2.0|                2.0|            1.0|       5.0|              1.0|[2.0,2.0,1.0,5.0,...|\n",
      "|     Kuga|2018|14399|      Manual|  12810|  Diesel|145|64.2|       1.5|         2.0|                0.0|            1.0|       3.0|              1.0|[2.0,0.0,1.0,3.0,...|\n",
      "|     Kuga|2019|17999|      Manual|  10428|  Diesel|145|38.2|       2.0|         2.0|                0.0|            1.0|      22.0|              2.0|[2.0,0.0,1.0,22.0...|\n",
      "|     Kuga|2018|16899|      Manual|  14680|  Diesel|145|54.3|       2.0|         2.0|                0.0|            1.0|       1.0|              2.0|[2.0,0.0,1.0,1.0,...|\n",
      "|   Fiesta|2017|10999|      Manual|  12427|  Petrol| 20|62.8|       1.0|         0.0|                0.0|            0.0|      12.0|              0.0|      (5,[3],[12.0])|\n",
      "|   Fiesta|2019|12500|      Manual|  25521|  Petrol|145|55.4|       1.0|         0.0|                0.0|            0.0|       9.0|              0.0|       (5,[3],[9.0])|\n",
      "+---------+----+-----+------------+-------+--------+---+----+----------+------------+-------------------+---------------+----------+-----------------+--------------------+\n",
      "only showing top 20 rows\n",
      "\n"
     ]
    },
    {
     "name": "stderr",
     "output_type": "stream",
     "text": [
      "23/06/21 20:35:43 WARN Instrumentation: [058cd304] regParam is zero, which might cause numerical instability and overfitting.\n"
     ]
    }
   ],
   "source": [
    "from pyspark.ml.feature import VectorAssembler\n",
    "\n",
    "assembler = VectorAssembler(inputCols=['modelIndexed','transmissionIndexed','fuelTypeIndexed', 'mpgIndexed', 'engineSizeIndexed'],\n",
    "                            outputCol='IndependentVariable')\n",
    "output = assembler.transform(dfIndexed)\n",
    "output.show()\n",
    "\n",
    "from pyspark.ml.regression import LinearRegression\n",
    "selectedFeatures = output.select([\"IndependentVariable\", \"price\"])\n",
    "#split dataset \n",
    "trainData, testData = selectedFeatures.randomSplit([0.8,0.2])\n",
    "regModel = LinearRegression(\n",
    "    featuresCol=\"IndependentVariable\", labelCol=\"price\"\n",
    ")\n",
    "regressor = regModel.fit(trainData)"
   ]
  },
  {
   "cell_type": "code",
   "execution_count": 31,
   "metadata": {},
   "outputs": [
    {
     "data": {
      "text/plain": [
       "DenseVector([192.0953, 1361.2582, 1676.1643, 100.651, -601.7099])"
      ]
     },
     "execution_count": 31,
     "metadata": {},
     "output_type": "execute_result"
    }
   ],
   "source": [
    "regressor.coefficients"
   ]
  },
  {
   "cell_type": "code",
   "execution_count": 32,
   "metadata": {},
   "outputs": [
    {
     "data": {
      "text/plain": [
       "10902.759266345774"
      ]
     },
     "execution_count": 32,
     "metadata": {},
     "output_type": "execute_result"
    }
   ],
   "source": [
    "regressor.intercept"
   ]
  },
  {
   "cell_type": "code",
   "execution_count": 33,
   "metadata": {},
   "outputs": [],
   "source": [
    "y_pred = regressor.evaluate(testData)"
   ]
  },
  {
   "cell_type": "code",
   "execution_count": 34,
   "metadata": {},
   "outputs": [
    {
     "name": "stdout",
     "output_type": "stream",
     "text": [
      "+-------------------+-----+------------------+\n",
      "|IndependentVariable|price|        prediction|\n",
      "+-------------------+-----+------------------+\n",
      "|          (5,[],[])| 4000|10902.759266345774|\n",
      "|          (5,[],[])| 4640|10902.759266345774|\n",
      "|          (5,[],[])| 4799|10902.759266345774|\n",
      "|          (5,[],[])| 5599|10902.759266345774|\n",
      "|          (5,[],[])| 5795|10902.759266345774|\n",
      "|          (5,[],[])| 5989|10902.759266345774|\n",
      "|          (5,[],[])| 5999|10902.759266345774|\n",
      "|          (5,[],[])| 6080|10902.759266345774|\n",
      "|          (5,[],[])| 6150|10902.759266345774|\n",
      "|          (5,[],[])| 6270|10902.759266345774|\n",
      "|          (5,[],[])| 6298|10902.759266345774|\n",
      "|          (5,[],[])| 6400|10902.759266345774|\n",
      "|          (5,[],[])| 6490|10902.759266345774|\n",
      "|          (5,[],[])| 6495|10902.759266345774|\n",
      "|          (5,[],[])| 6495|10902.759266345774|\n",
      "|          (5,[],[])| 6498|10902.759266345774|\n",
      "|          (5,[],[])| 6500|10902.759266345774|\n",
      "|          (5,[],[])| 6590|10902.759266345774|\n",
      "|          (5,[],[])| 6600|10902.759266345774|\n",
      "|          (5,[],[])| 6634|10902.759266345774|\n",
      "+-------------------+-----+------------------+\n",
      "only showing top 20 rows\n",
      "\n"
     ]
    }
   ],
   "source": [
    "y_pred.predictions.show()"
   ]
  }
 ],
 "metadata": {
  "kernelspec": {
   "display_name": "Python 3",
   "language": "python",
   "name": "python3"
  },
  "language_info": {
   "codemirror_mode": {
    "name": "ipython",
    "version": 3
   },
   "file_extension": ".py",
   "mimetype": "text/x-python",
   "name": "python",
   "nbconvert_exporter": "python",
   "pygments_lexer": "ipython3",
   "version": "3.9.6"
  },
  "orig_nbformat": 4
 },
 "nbformat": 4,
 "nbformat_minor": 2
}
