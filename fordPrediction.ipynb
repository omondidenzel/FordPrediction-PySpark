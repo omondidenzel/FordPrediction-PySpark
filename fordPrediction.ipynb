{
 "cells": [
  {
   "cell_type": "code",
   "execution_count": 1,
   "metadata": {},
   "outputs": [],
   "source": [
    "import pyspark\n",
    "from pyspark.sql import SparkSession\n",
    "import pandas as pd"
   ]
  },
  {
   "cell_type": "code",
   "execution_count": 17,
   "metadata": {},
   "outputs": [
    {
     "data": {
      "text/html": [
       "\n",
       "            <div>\n",
       "                <p><b>SparkSession - in-memory</b></p>\n",
       "                \n",
       "        <div>\n",
       "            <p><b>SparkContext</b></p>\n",
       "\n",
       "            <p><a href=\"http://192.168.100.27:4040\">Spark UI</a></p>\n",
       "\n",
       "            <dl>\n",
       "              <dt>Version</dt>\n",
       "                <dd><code>v3.4.0</code></dd>\n",
       "              <dt>Master</dt>\n",
       "                <dd><code>local[*]</code></dd>\n",
       "              <dt>AppName</dt>\n",
       "                <dd><code>Practise</code></dd>\n",
       "            </dl>\n",
       "        </div>\n",
       "        \n",
       "            </div>\n",
       "        "
      ],
      "text/plain": [
       "<pyspark.sql.session.SparkSession at 0x126dd63a0>"
      ]
     },
     "execution_count": 17,
     "metadata": {},
     "output_type": "execute_result"
    }
   ],
   "source": [
    "spark = SparkSession.builder.appName(\"Practise\").getOrCreate()\n",
    "spark"
   ]
  },
  {
   "attachments": {},
   "cell_type": "markdown",
   "metadata": {},
   "source": [
    "Read Dataset"
   ]
  },
  {
   "cell_type": "code",
   "execution_count": 3,
   "metadata": {},
   "outputs": [
    {
     "name": "stdout",
     "output_type": "stream",
     "text": [
      "+-------+----+-----+------------+-------+--------+---+----+----------+\n",
      "|  model|year|price|transmission|mileage|fuelType|tax| mpg|engineSize|\n",
      "+-------+----+-----+------------+-------+--------+---+----+----------+\n",
      "| Fiesta|2017|12000|   Automatic|  15944|  Petrol|150|57.7|       1.0|\n",
      "|  Focus|2018|14000|      Manual|   9083|  Petrol|150|57.7|       1.0|\n",
      "|  Focus|2017|13000|      Manual|  12456|  Petrol|150|57.7|       1.0|\n",
      "| Fiesta|2019|17500|      Manual|  10460|  Petrol|145|40.3|       1.5|\n",
      "| Fiesta|2019|16500|   Automatic|   1482|  Petrol|145|48.7|       1.0|\n",
      "+-------+----+-----+------------+-------+--------+---+----+----------+\n",
      "only showing top 5 rows\n",
      "\n"
     ]
    }
   ],
   "source": [
    "df = spark.read.csv(\"ford.csv\", header=True, inferSchema=True)\n",
    "df.show(5)"
   ]
  },
  {
   "cell_type": "code",
   "execution_count": null,
   "metadata": {},
   "outputs": [
    {
     "name": "stdout",
     "output_type": "stream",
     "text": [
      "+-------+------+------------------+------------------+------------+------------------+--------+------------------+------------------+-------------------+\n",
      "|summary| model|              year|             price|transmission|           mileage|fuelType|               tax|               mpg|         engineSize|\n",
      "+-------+------+------------------+------------------+------------+------------------+--------+------------------+------------------+-------------------+\n",
      "|  count| 17966|             17966|             17966|       17966|             17966|   17966|             17966|             17966|              17966|\n",
      "|   mean|  null|2016.8664699988867|12279.534843593454|        null|23362.608760992985|    null|113.32945563842814| 57.90697985082969| 1.3508070800400782|\n",
      "| stddev|  null|2.0503359784876998| 4741.343657354183|        null| 19472.05434910513|    null|62.012456193801725|10.125695709164098|0.43236727240069733|\n",
      "|    min| B-MAX|              1996|               495|   Automatic|                 1|  Diesel|                 0|              20.8|                0.0|\n",
      "|    max| Focus|              2060|             54995|   Semi-Auto|            177644|  Petrol|               580|             201.8|                5.0|\n",
      "+-------+------+------------------+------------------+------------+------------------+--------+------------------+------------------+-------------------+\n",
      "\n"
     ]
    }
   ],
   "source": [
    "df.describe().show()"
   ]
  },
  {
   "cell_type": "code",
   "execution_count": 4,
   "metadata": {},
   "outputs": [
    {
     "name": "stdout",
     "output_type": "stream",
     "text": [
      "root\n",
      " |-- model: string (nullable = true)\n",
      " |-- year: integer (nullable = true)\n",
      " |-- price: integer (nullable = true)\n",
      " |-- transmission: string (nullable = true)\n",
      " |-- mileage: integer (nullable = true)\n",
      " |-- fuelType: string (nullable = true)\n",
      " |-- tax: integer (nullable = true)\n",
      " |-- mpg: double (nullable = true)\n",
      " |-- engineSize: double (nullable = true)\n",
      "\n"
     ]
    }
   ],
   "source": [
    "#Get Data Type\n",
    "df.printSchema()"
   ]
  },
  {
   "cell_type": "code",
   "execution_count": 5,
   "metadata": {},
   "outputs": [
    {
     "name": "stdout",
     "output_type": "stream",
     "text": [
      "+-----+----+-----+------------+-------+--------+---+---+----------+\n",
      "|model|year|price|transmission|mileage|fuelType|tax|mpg|engineSize|\n",
      "+-----+----+-----+------------+-------+--------+---+---+----------+\n",
      "|    0|   0|    0|           0|      0|       0|  0|  0|         0|\n",
      "+-----+----+-----+------------+-------+--------+---+---+----------+\n",
      "\n"
     ]
    }
   ],
   "source": [
    "#Get null values\n",
    "from pyspark.sql.functions import isnan, when, count, col\n",
    "df.select([count(when(isnan(c) | col(c).isNull(), c)).alias(c) for c in df.columns]).show()"
   ]
  },
  {
   "cell_type": "code",
   "execution_count": 6,
   "metadata": {},
   "outputs": [
    {
     "data": {
      "text/plain": [
       "['model',\n",
       " 'year',\n",
       " 'price',\n",
       " 'transmission',\n",
       " 'mileage',\n",
       " 'fuelType',\n",
       " 'tax',\n",
       " 'mpg',\n",
       " 'engineSize']"
      ]
     },
     "execution_count": 6,
     "metadata": {},
     "output_type": "execute_result"
    }
   ],
   "source": [
    "df.columns"
   ]
  },
  {
   "cell_type": "code",
   "execution_count": 7,
   "metadata": {},
   "outputs": [
    {
     "name": "stdout",
     "output_type": "stream",
     "text": [
      "+-------+----+-----+------------+-------+--------+---+----+----------+------------+-------------------+---------------+----------+-----------------+\n",
      "|  model|year|price|transmission|mileage|fuelType|tax| mpg|engineSize|modelIndexed|transmissionIndexed|fuelTypeIndexed|mpgIndexed|engineSizeIndexed|\n",
      "+-------+----+-----+------------+-------+--------+---+----+----------+------------+-------------------+---------------+----------+-----------------+\n",
      "| Fiesta|2017|12000|   Automatic|  15944|  Petrol|150|57.7|       1.0|         0.0|                1.0|            0.0|       4.0|              0.0|\n",
      "|  Focus|2018|14000|      Manual|   9083|  Petrol|150|57.7|       1.0|         1.0|                0.0|            0.0|       4.0|              0.0|\n",
      "|  Focus|2017|13000|      Manual|  12456|  Petrol|150|57.7|       1.0|         1.0|                0.0|            0.0|       4.0|              0.0|\n",
      "| Fiesta|2019|17500|      Manual|  10460|  Petrol|145|40.3|       1.5|         0.0|                0.0|            0.0|      30.0|              1.0|\n",
      "| Fiesta|2019|16500|   Automatic|   1482|  Petrol|145|48.7|       1.0|         0.0|                1.0|            0.0|      11.0|              0.0|\n",
      "+-------+----+-----+------------+-------+--------+---+----+----------+------------+-------------------+---------------+----------+-----------------+\n",
      "only showing top 5 rows\n",
      "\n"
     ]
    },
    {
     "name": "stderr",
     "output_type": "stream",
     "text": [
      "23/06/22 05:37:05 WARN GarbageCollectionMetrics: To enable non-built-in garbage collector(s) List(G1 Concurrent GC), users should configure it(them) to spark.eventLog.gcMetrics.youngGenerationGarbageCollectors or spark.eventLog.gcMetrics.oldGenerationGarbageCollectors\n"
     ]
    }
   ],
   "source": [
    "from pyspark.ml.feature import StringIndexer\n",
    "\n",
    "indexer = StringIndexer(inputCols=['model','transmission','fuelType', 'mpg', 'engineSize'], \n",
    "                          outputCols=['modelIndexed','transmissionIndexed','fuelTypeIndexed', 'mpgIndexed', 'engineSizeIndexed'])\n",
    "\n",
    "dfIndexed = indexer.fit(df).transform(df)\n",
    "dfIndexed.show(5)"
   ]
  },
  {
   "cell_type": "code",
   "execution_count": 15,
   "metadata": {},
   "outputs": [
    {
     "name": "stdout",
     "output_type": "stream",
     "text": [
      "+-------+----+-----+------------+-------+--------+---+----+----------+------------+-------------------+---------------+----------+-----------------+--------------------+\n",
      "|  model|year|price|transmission|mileage|fuelType|tax| mpg|engineSize|modelIndexed|transmissionIndexed|fuelTypeIndexed|mpgIndexed|engineSizeIndexed| IndependentVariable|\n",
      "+-------+----+-----+------------+-------+--------+---+----+----------+------------+-------------------+---------------+----------+-----------------+--------------------+\n",
      "| Fiesta|2017|12000|   Automatic|  15944|  Petrol|150|57.7|       1.0|         0.0|                1.0|            0.0|       4.0|              0.0|[2017.0,15944.0,1...|\n",
      "|  Focus|2018|14000|      Manual|   9083|  Petrol|150|57.7|       1.0|         1.0|                0.0|            0.0|       4.0|              0.0|[2018.0,9083.0,15...|\n",
      "|  Focus|2017|13000|      Manual|  12456|  Petrol|150|57.7|       1.0|         1.0|                0.0|            0.0|       4.0|              0.0|[2017.0,12456.0,1...|\n",
      "| Fiesta|2019|17500|      Manual|  10460|  Petrol|145|40.3|       1.5|         0.0|                0.0|            0.0|      30.0|              1.0|[2019.0,10460.0,1...|\n",
      "| Fiesta|2019|16500|   Automatic|   1482|  Petrol|145|48.7|       1.0|         0.0|                1.0|            0.0|      11.0|              0.0|[2019.0,1482.0,14...|\n",
      "+-------+----+-----+------------+-------+--------+---+----+----------+------------+-------------------+---------------+----------+-----------------+--------------------+\n",
      "only showing top 5 rows\n",
      "\n"
     ]
    },
    {
     "name": "stderr",
     "output_type": "stream",
     "text": [
      "23/06/22 05:39:46 WARN Instrumentation: [7bd94e68] regParam is zero, which might cause numerical instability and overfitting.\n"
     ]
    }
   ],
   "source": [
    "from pyspark.ml.feature import VectorAssembler\n",
    "\n",
    "assembler = VectorAssembler(inputCols=['year','mileage','tax','mpg','modelIndexed','transmissionIndexed','fuelTypeIndexed', 'mpgIndexed', 'engineSizeIndexed'],\n",
    "                            outputCol='IndependentVariable')\n",
    "output = assembler.transform(dfIndexed)\n",
    "output.show(5)\n",
    "\n",
    "from pyspark.ml.regression import LinearRegression\n",
    "selectedFeatures = output.select([\"IndependentVariable\", \"price\"])\n",
    "#split dataset \n",
    "trainData, testData = selectedFeatures.randomSplit([0.8,0.2])\n",
    "regModel = LinearRegression(\n",
    "    featuresCol=\"IndependentVariable\", labelCol=\"price\"\n",
    ")\n",
    "regressor = regModel.fit(trainData)"
   ]
  },
  {
   "cell_type": "code",
   "execution_count": 10,
   "metadata": {},
   "outputs": [
    {
     "name": "stdout",
     "output_type": "stream",
     "text": [
      "+--------------------+\n",
      "| IndependentVariable|\n",
      "+--------------------+\n",
      "|[2017.0,15944.0,1...|\n",
      "|[2018.0,9083.0,15...|\n",
      "|[2017.0,12456.0,1...|\n",
      "|[2019.0,10460.0,1...|\n",
      "|[2019.0,1482.0,14...|\n",
      "+--------------------+\n",
      "only showing top 5 rows\n",
      "\n"
     ]
    }
   ],
   "source": [
    "#preview\n",
    "output.select([\"IndependentVariable\"]).show(5)"
   ]
  },
  {
   "cell_type": "code",
   "execution_count": 11,
   "metadata": {},
   "outputs": [
    {
     "data": {
      "text/plain": [
       "DenseVector([1054.355, -0.06, 5.3363, -156.8057, 65.4079, 275.805, 4103.9851, 52.5717, -225.594])"
      ]
     },
     "execution_count": 11,
     "metadata": {},
     "output_type": "execute_result"
    }
   ],
   "source": [
    "regressor.coefficients"
   ]
  },
  {
   "cell_type": "code",
   "execution_count": 12,
   "metadata": {},
   "outputs": [
    {
     "data": {
      "text/plain": [
       "-2106062.8457068433"
      ]
     },
     "execution_count": 12,
     "metadata": {},
     "output_type": "execute_result"
    }
   ],
   "source": [
    "regressor.intercept"
   ]
  },
  {
   "cell_type": "code",
   "execution_count": 13,
   "metadata": {},
   "outputs": [],
   "source": [
    "y_pred = regressor.evaluate(testData)"
   ]
  },
  {
   "cell_type": "code",
   "execution_count": 16,
   "metadata": {},
   "outputs": [
    {
     "name": "stdout",
     "output_type": "stream",
     "text": [
      "+--------------------+-----+------------------+\n",
      "| IndependentVariable|price|        prediction|\n",
      "+--------------------+-----+------------------+\n",
      "|(9,[0,1,2,3],[201...|10995|11042.667344268411|\n",
      "|(9,[0,1,2,3],[201...| 9998|10768.757661832497|\n",
      "|(9,[0,1,2,3],[201...|14932|10701.045779744629|\n",
      "|(9,[0,1,2,3],[201...|11495| 10671.11265231762|\n",
      "|(9,[0,1,2,3],[201...| 9267| 10650.89729371434|\n",
      "+--------------------+-----+------------------+\n",
      "only showing top 5 rows\n",
      "\n"
     ]
    }
   ],
   "source": [
    "y_pred.predictions.show(5)"
   ]
  }
 ],
 "metadata": {
  "kernelspec": {
   "display_name": "Python 3",
   "language": "python",
   "name": "python3"
  },
  "language_info": {
   "codemirror_mode": {
    "name": "ipython",
    "version": 3
   },
   "file_extension": ".py",
   "mimetype": "text/x-python",
   "name": "python",
   "nbconvert_exporter": "python",
   "pygments_lexer": "ipython3",
   "version": "3.9.6"
  },
  "orig_nbformat": 4
 },
 "nbformat": 4,
 "nbformat_minor": 2
}
